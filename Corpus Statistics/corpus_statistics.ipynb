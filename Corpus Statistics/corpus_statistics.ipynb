{
 "cells": [
  {
   "cell_type": "code",
   "execution_count": 16,
   "metadata": {},
   "outputs": [],
   "source": [
    "import csv\n",
    "import json\n",
    "import pandas as pd\n",
    "import nltk"
   ]
  },
  {
   "cell_type": "code",
   "execution_count": 2,
   "metadata": {},
   "outputs": [],
   "source": [
    "file1 = [json.loads(line) for line in open('16119_webhose_2020_01_db21c91a1ab47385bb13773ed8238c31_0000002.json', 'r')]\n",
    "file2 = [json.loads(line) for line in open('16119_webhose_2020_02_db21c91a1ab47385bb13773ed8238c31_0000002.json', 'r')] "
   ]
  },
  {
   "cell_type": "code",
   "execution_count": 3,
   "metadata": {},
   "outputs": [],
   "source": [
    "data_to_file = open('covid19.csv', 'w', newline='')\n",
    "csv_writer = csv.writer(data_to_file)\n",
    "csv_writer.writerow([\"facebook\",\"title\",\"published\",\"replies_count\", \"author\", \"url\", \"country\", \"text\"]);"
   ]
  },
  {
   "cell_type": "code",
   "execution_count": 4,
   "metadata": {},
   "outputs": [],
   "source": [
    "for i in range(0, len(file1)):\n",
    "        data = data1[i]\n",
    "        facebook = data['thread']['social']['facebook']\n",
    "        title = data['title']\n",
    "        published = data['thread']['published']\n",
    "        replies_count = data['thread']['replies_count']\n",
    "        author = data['author']\n",
    "        url = data['url']\n",
    "        country = data['thread']['country']\n",
    "        text = data['text']\n",
    "        csv_writer.writerow([facebook,title,published,replies_count,author,url,country,text])\n",
    "for i in range(0, len(file2)):\n",
    "        data = data2[i]\n",
    "        facebook = data['thread']['social']['facebook']\n",
    "        title = data['title']\n",
    "        published = data['thread']['published']\n",
    "        replies_count = data['thread']['replies_count']\n",
    "        author = data['author']\n",
    "        url = data['url']\n",
    "        country = data['thread']['country']\n",
    "        text = data['text']\n",
    "        csv_writer.writerow([facebook,title,published,replies_count,author,url,country,text])\n",
    "data_to_file.close()\n"
   ]
  },
  {
   "cell_type": "code",
   "execution_count": 17,
   "metadata": {},
   "outputs": [
    {
     "name": "stdout",
     "output_type": "stream",
     "text": [
      "106017\n"
     ]
    }
   ],
   "source": [
    "get_text = open(\"covid19.csv\", 'r')\n",
    "df = pd.read_csv(\"covid19.csv\")\n",
    "columns = df.text\n",
    "print(len(columns))"
   ]
  },
  {
   "cell_type": "code",
   "execution_count": 6,
   "metadata": {},
   "outputs": [
    {
     "name": "stdout",
     "output_type": "stream",
     "text": [
      "0         [Bengaluru, :, Isolation, wards, in, hospitals...\n",
      "1         [The, government, making, sure, that, the, new...\n",
      "2         [Apart, from, more, people, falling, sick, (, ...\n",
      "3         [Asian, stock, markets, are, mostly, higher, o...\n",
      "4         [Cash, flow, was, also, “, very, strong, ,, ”,...\n",
      "                                ...                        \n",
      "106012    [Corona, virus, is, the, most, effective, weap...\n",
      "106013    [Hope, they, do, n't, bring, coronavirus, to, ...\n",
      "106014    [Wall, Street, Ends, In, The, Red, As, Virus, ...\n",
      "106015    [Since, mid-January, ,, the, name, on, the, li...\n",
      "106016    [PH, shares, fall, back, to, 7,200, amid, ling...\n",
      "Name: tokenized, Length: 106017, dtype: object\n"
     ]
    }
   ],
   "source": [
    "#tokenization\n",
    "df['tokenized'] = df.apply(lambda row: nltk.word_tokenize(row['text']), axis=1)\n",
    "print(df['tokenized'])"
   ]
  },
  {
   "cell_type": "code",
   "execution_count": 7,
   "metadata": {},
   "outputs": [
    {
     "name": "stdout",
     "output_type": "stream",
     "text": [
      "0         [bengaluru, :, isolation, wards, in, hospitals...\n",
      "1         [the, government, making, sure, that, the, new...\n",
      "2         [apart, from, more, people, falling, sick, (, ...\n",
      "3         [asian, stock, markets, are, mostly, higher, o...\n",
      "4         [cash, flow, was, also, “, very, strong, ,, ”,...\n",
      "                                ...                        \n",
      "106012    [corona, virus, is, the, most, effective, weap...\n",
      "106013    [hope, they, do, n't, bring, coronavirus, to, ...\n",
      "106014    [wall, street, ends, in, the, red, as, virus, ...\n",
      "106015    [since, mid-january, ,, the, name, on, the, li...\n",
      "106016    [ph, shares, fall, back, to, 7,200, amid, ling...\n",
      "Name: lower_case_words, Length: 106017, dtype: object\n"
     ]
    }
   ],
   "source": [
    "#tolowercase\n",
    "df['lower_case_words'] = df['tokenized'].apply(lambda x: [word.lower() for word in x])\n",
    "print(df['lower_case_words'])"
   ]
  },
  {
   "cell_type": "code",
   "execution_count": 8,
   "metadata": {},
   "outputs": [
    {
     "name": "stdout",
     "output_type": "stream",
     "text": [
      "0         [bengaluru, isolation, wards, in, hospitals, a...\n",
      "1         [the, government, making, sure, that, the, new...\n",
      "2         [apart, from, more, people, falling, sick, as,...\n",
      "3         [asian, stock, markets, are, mostly, higher, o...\n",
      "4         [cash, flow, was, also, very, strong, at, more...\n",
      "                                ...                        \n",
      "106012    [corona, virus, is, the, most, effective, weap...\n",
      "106013    [hope, they, do, bring, coronavirus, to, these...\n",
      "106014    [wall, street, ends, in, the, red, as, virus, ...\n",
      "106015    [since, the, name, on, the, lips, of, increasi...\n",
      "106016    [ph, shares, fall, back, to, amid, lingering, ...\n",
      "Name: is_alpha, Length: 106017, dtype: object\n"
     ]
    }
   ],
   "source": [
    "#remove_punctuation,numeric\n",
    "df['is_alpha'] = df['lower_case_words'].apply(lambda x: [word for word in x if word.isalpha()])\n",
    "print(df['is_alpha'])"
   ]
  },
  {
   "cell_type": "code",
   "execution_count": 9,
   "metadata": {},
   "outputs": [],
   "source": [
    "#Stopwords\n",
    "stop_words = nltk.corpus.stopwords.words('english')\n",
    "df['stopwords_removed'] = df['is_alpha'].apply(lambda x: [word for word in x if word not in stop_words])"
   ]
  },
  {
   "cell_type": "code",
   "execution_count": 10,
   "metadata": {},
   "outputs": [
    {
     "name": "stdout",
     "output_type": "stream",
     "text": [
      "0         [bengaluru, isolation, wards, hospitals, acros...\n",
      "1         [government, making, sure, new, coronavirus, m...\n",
      "2         [apart, people, falling, sick, bad, fundamenta...\n",
      "3         [asian, stock, markets, mostly, higher, friday...\n",
      "4         [cash, flow, also, strong, us, billion, fourth...\n",
      "                                ...                        \n",
      "106012    [corona, virus, effective, weapon, created, xi...\n",
      "106013    [hope, bring, coronavirus, poor, cambodian, pe...\n",
      "106014    [wall, street, ends, red, virus, fears, spook,...\n",
      "106015    [since, name, lips, increasing, numbers, tv, n...\n",
      "106016    [ph, shares, fall, back, amid, lingering, jitt...\n",
      "Name: stopwords_removed, Length: 106017, dtype: object\n"
     ]
    }
   ],
   "source": [
    "print(df['stopwords_removed'])"
   ]
  },
  {
   "cell_type": "code",
   "execution_count": 11,
   "metadata": {},
   "outputs": [
    {
     "data": {
      "text/plain": [
       "31047932"
      ]
     },
     "execution_count": 11,
     "metadata": {},
     "output_type": "execute_result"
    }
   ],
   "source": [
    "#convertingtolist\n",
    "stoptext = df['stopwords_removed'].tolist()\n",
    "stopped_text=[]\n",
    "[stopped_text.extend(i) for i in stoptext]\n",
    "len(stopped_text)"
   ]
  },
  {
   "cell_type": "code",
   "execution_count": 12,
   "metadata": {},
   "outputs": [
    {
     "data": {
      "text/plain": [
       "['bengaluru',\n",
       " 'isolation',\n",
       " 'ward',\n",
       " 'hospital',\n",
       " 'across',\n",
       " 'karnataka',\n",
       " 'helpline',\n",
       " 'take',\n",
       " 'call',\n",
       " 'query',\n",
       " 'ready',\n",
       " 'prevent',\n",
       " 'spread',\n",
       " 'virus',\n",
       " 'first',\n",
       " 'case',\n",
       " 'india',\n",
       " 'reported',\n",
       " 'kerala',\n",
       " 'yesterday',\n",
       " 'chief',\n",
       " 'secretary',\n",
       " 'state',\n",
       " 'government',\n",
       " 'thursday',\n",
       " 'held',\n",
       " 'meeting',\n",
       " 'additional',\n",
       " 'chief',\n",
       " 'secretary']"
      ]
     },
     "execution_count": 12,
     "metadata": {},
     "output_type": "execute_result"
    }
   ],
   "source": [
    "#lemmetaziation \n",
    "lemmetizer = nltk.WordNetLemmatizer()\n",
    "lemmatized_words = [lemmetizer.lemmatize(t) for t in stopped_text]\n",
    "lemmatized_words[:30]"
   ]
  },
  {
   "cell_type": "code",
   "execution_count": 13,
   "metadata": {},
   "outputs": [],
   "source": [
    "# list the top 50 words by frequency\n",
    "from nltk import FreqDist\n",
    "fdist = FreqDist(lemmatized_words)\n",
    "lemmetized_text_topKeys = fdist.most_common(50)"
   ]
  },
  {
   "cell_type": "code",
   "execution_count": 14,
   "metadata": {},
   "outputs": [
    {
     "name": "stdout",
     "output_type": "stream",
     "text": [
      "[('said', 341836), ('china', 320330), ('coronavirus', 296230), ('virus', 200704), ('people', 177961), ('health', 175488), ('new', 174300), ('case', 167723), ('outbreak', 142623), ('year', 120429), ('also', 120408), ('chinese', 114787), ('one', 96585), ('country', 94624), ('day', 91480), ('wuhan', 91011), ('world', 89887), ('company', 85632), ('would', 80589), ('week', 80187), ('time', 80187), ('market', 76452), ('government', 75976), ('first', 75636), ('two', 74386), ('say', 72486), ('last', 69719), ('spread', 68402), ('million', 68353), ('disease', 67784), ('confirmed', 67736), ('u', 66846), ('could', 66658), ('official', 65943), ('number', 64840), ('news', 64468), ('death', 63549), ('city', 63450), ('ship', 61488), ('text', 61401), ('global', 61195), ('reported', 60271), ('state', 60113), ('public', 60062), ('passenger', 59543), ('february', 57921), ('hospital', 57269), ('patient', 56497), ('including', 53353), ('may', 52876)]\n"
     ]
    }
   ],
   "source": [
    "print(lemmetized_text_topKeys)"
   ]
  },
  {
   "cell_type": "code",
   "execution_count": 15,
   "metadata": {},
   "outputs": [
    {
     "name": "stdout",
     "output_type": "stream",
     "text": [
      "(('coronavirus', 'outbreak'), 0.001467440730029942)\n",
      "(('location', 'text'), 0.0014113983501381027)\n",
      "(('hong', 'kong'), 0.0013410555008945522)\n",
      "(('novel', 'coronavirus'), 0.0012370872237158984)\n",
      "(('confirmed', 'case'), 0.0009699518795647968)\n",
      "(('cruise', 'ship'), 0.000888368346078573)\n",
      "(('public', 'health'), 0.0008444362735656597)\n",
      "(('world', 'health'), 0.0008098445977013863)\n",
      "(('new', 'coronavirus'), 0.0007389219997003343)\n",
      "(('per', 'cent'), 0.0007223347435829221)\n",
      "(('hubei', 'province'), 0.0007103210609969128)\n",
      "(('health', 'organization'), 0.0006263219076877648)\n",
      "(('mainland', 'china'), 0.0006245504531509538)\n",
      "(('text', 'location'), 0.0006220060002708071)\n",
      "(('united', 'state'), 0.0006088328201697943)\n",
      "(('last', 'year'), 0.0005928253128098837)\n",
      "(('new', 'case'), 0.0005921167309951593)\n",
      "(('rating', 'green'), 0.0005652872468285488)\n",
      "(('green', 'name'), 0.0005595219675178366)\n",
      "(('threshold', 'type'), 0.0005537244799428187)\n",
      "(('type', 'textpattern'), 0.0005537244799428187)\n",
      "(('textpattern', 'score'), 0.0005456079973377937)\n",
      "(('death', 'toll'), 0.0005308888205501094)\n",
      "(('diamond', 'princess'), 0.0005248336668606463)\n",
      "(('last', 'week'), 0.0005227723379450844)\n",
      "(('new', 'virus'), 0.00047774518444577887)\n",
      "(('health', 'official'), 0.00047185107207784404)\n",
      "(('tested', 'positive'), 0.0004703694919197839)\n",
      "(('new', 'year'), 0.0004455047118758183)\n",
      "(('coronavirus', 'case'), 0.00038643475513924726)\n",
      "(('score', 'rating'), 0.00037912347914186365)\n",
      "(('new', 'york'), 0.0003727784510736496)\n",
      "(('count', 'rule'), 0.0003603460610516668)\n",
      "(('pattern', 'count'), 0.0003549350726483168)\n",
      "(('social', 'medium'), 0.0003523584115038644)\n",
      "(('case', 'coronavirus'), 0.0003460133834356504)\n",
      "(('face', 'mask'), 0.00034485388592064685)\n",
      "(('infectious', 'disease'), 0.000338863148759795)\n",
      "(('disease', 'control'), 0.00033232487110574705)\n",
      "(('two', 'week'), 0.00032836325459615153)\n",
      "(('spread', 'virus'), 0.0003180888182826476)\n",
      "(('health', 'emergency'), 0.0003107453340209583)\n",
      "(('lunar', 'new'), 0.0003029187257946842)\n",
      "(('official', 'said'), 0.0003013083125794014)\n",
      "(('supply', 'chain'), 0.0002990537340780056)\n",
      "(('health', 'commission'), 0.00029692798863383235)\n",
      "(('around', 'world'), 0.0002958651159117457)\n",
      "(('associated', 'press'), 0.00029270870600979157)\n",
      "(('killed', 'people'), 0.00028159685482434066)\n",
      "(('prime', 'minister'), 0.00027686223997140934)\n"
     ]
    }
   ],
   "source": [
    "#list the top 50 bigrams by frequencies\n",
    "from nltk.collocations import *\n",
    "bigram_measures_plot = nltk.collocations.BigramAssocMeasures()\n",
    "finder = BigramCollocationFinder.from_words(lemmatized_words)skcw\n",
    "finder.apply_freq_filter(5)\n",
    "scored = finder.score_ngrams(bigram_measures_plot.raw_freq)\n",
    "for bigramscore in scored[:50]:\n",
    "    print(bigramscore)"
   ]
  },
  {
   "cell_type": "code",
   "execution_count": 16,
   "metadata": {},
   "outputs": [
    {
     "name": "stdout",
     "output_type": "stream",
     "text": [
      "(('aline', 'oyamada'), 22.56606574782782)\n",
      "(('andreo', 'calonzo'), 22.56606574782782)\n",
      "(('artha', 'ardhana'), 22.56606574782782)\n",
      "(('asaduddin', 'owaisi'), 22.56606574782782)\n",
      "(('babulal', 'marandi'), 22.56606574782782)\n",
      "(('bichigt', 'bulgan'), 22.56606574782782)\n",
      "(('campeões', 'clássica'), 22.56606574782782)\n",
      "(('celestino', 'gallares'), 22.56606574782782)\n",
      "(('chiwuike', 'onyeanu'), 22.56606574782782)\n",
      "(('clássica', 'franquia'), 22.56606574782782)\n",
      "(('combizym', 'hirudoid'), 22.56606574782782)\n",
      "(('diretoras', 'esnobadas'), 22.56606574782782)\n",
      "(('ekstra', 'bladet'), 22.56606574782782)\n",
      "(('embedvideo', 'pagetitle'), 22.56606574782782)\n",
      "(('eren', 'sengezer'), 22.56606574782782)\n",
      "(('ezzeldin', 'bahader'), 22.56606574782782)\n",
      "(('filou', 'oostende'), 22.56606574782782)\n",
      "(('foodgrain', 'prodution'), 22.56606574782782)\n",
      "(('galtung', 'døsvig'), 22.56606574782782)\n",
      "(('ghanti', 'bajao'), 22.56606574782782)\n",
      "(('hatidze', 'muratova'), 22.56606574782782)\n",
      "(('heikki', 'kovalainen'), 22.56606574782782)\n",
      "(('intramuscularly', 'intradermally'), 22.56606574782782)\n",
      "(('intravascular', 'coagulopathy'), 22.56606574782782)\n",
      "(('jeoffrey', 'lambujon'), 22.56606574782782)\n",
      "(('jirasat', 'wittaya'), 22.56606574782782)\n",
      "(('joventut', 'badalona'), 22.56606574782782)\n",
      "(('jìnpíng', '习近平'), 22.56606574782782)\n",
      "(('kalagayang', 'epidemiko'), 22.56606574782782)\n",
      "(('kalidou', 'koulibaly'), 22.56606574782782)\n",
      "(('kalyeena', 'makortoff'), 22.56606574782782)\n",
      "(('karasyov', 'cannonball'), 22.56606574782782)\n",
      "(('kktc', 'cumhurbaşkani'), 22.56606574782782)\n",
      "(('krister', 'magnusson'), 22.56606574782782)\n",
      "(('labto', 'ofdlr'), 22.56606574782782)\n",
      "(('lagendijk', 'cgco'), 22.56606574782782)\n",
      "(('lavoropiu', 'fortitudo'), 22.56606574782782)\n",
      "(('leptopilina', 'boulardi'), 22.56606574782782)\n",
      "(('magagandang', 'mapuntahan'), 22.56606574782782)\n",
      "(('movicol', 'combizym'), 22.56606574782782)\n",
      "(('myeonguet', 'walehet'), 22.56606574782782)\n",
      "(('narumon', 'pinyosinwat'), 22.56606574782782)\n",
      "(('natnicha', 'chuwiruch'), 22.56606574782782)\n",
      "(('nayla', 'razzouk'), 22.56606574782782)\n",
      "(('nenad', 'lalovic'), 22.56606574782782)\n",
      "(('nguessan', 'myeonguet'), 22.56606574782782)\n",
      "(('ofdlr', 'owedi'), 22.56606574782782)\n",
      "(('ofri', 'ilany'), 22.56606574782782)\n",
      "(('ognen', 'stojanovski'), 22.56606574782782)\n",
      "(('omotayo', 'okusanya'), 22.56606574782782)\n"
     ]
    }
   ],
   "source": [
    "# list the top 50 bigrams by their Mutual Information scores\n",
    "finder2 = BigramCollocationFinder.from_words(lemmatized_words)\n",
    "finder2.apply_freq_filter(5)\n",
    "scored = finder2.score_ngrams(bigram_measures_plot.pmi)\n",
    "for bigramscore in scored[:50]:\n",
    "    print(bigramscore)"
   ]
  },
  {
   "cell_type": "code",
   "execution_count": 18,
   "metadata": {},
   "outputs": [],
   "source": [
    "#Plotting_graphs\n",
    "import seaborn as sns\n",
    "import numpy as np\n",
    "from nltk.corpus import stopwords\n",
    "from sklearn.feature_extraction.text import CountVectorizer\n",
    "from collections import  Counter\n",
    "\n",
    "def plot_top_ngrams_barchart(text, n=2):\n",
    "    stop=set(stopwords.words('english'))\n",
    "\n",
    "    new= text.str.split()\n",
    "    new=new.values.tolist()\n",
    "    corpus=[word for i in new for word in i]\n",
    "\n",
    "    def _get_top_ngram(corpus, n=None):\n",
    "        vec = CountVectorizer(ngram_range=(n, n)).fit(corpus)\n",
    "        bag_of_words = vec.transform(corpus)\n",
    "        sum_words = bag_of_words.sum(axis=0) \n",
    "        words_freq = [(word, sum_words[0, idx]) \n",
    "                      for word, idx in vec.vocabulary_.items()]\n",
    "        words_freq =sorted(words_freq, key = lambda x: x[1], reverse=True)\n",
    "        return words_freq[:10]\n",
    "\n",
    "    top_n_bigrams=_get_top_ngram(text,n)[:10]\n",
    "    x,y=map(list,zip(*top_n_bigrams))\n",
    "    sns.barplot(x=y,y=x)"
   ]
  },
  {
   "cell_type": "code",
   "execution_count": 19,
   "metadata": {},
   "outputs": [
    {
     "data": {
      "image/png": "[encoded data removed]",
      "text/plain": [
       "<Figure size 432x288 with 1 Axes>"
      ]
     },
     "metadata": {
      "needs_background": "light"
     },
     "output_type": "display_data"
    }
   ],
   "source": [
    "plot_top_ngrams_barchart(df['text'], 2)"
   ]
  },
  {
   "cell_type": "code",
   "execution_count": 31,
   "metadata": {},
   "outputs": [],
   "source": [
    "import seaborn as sns\n",
    "from nltk.corpus import stopwords\n",
    "from collections import  Counter\n",
    "\n",
    "def plot_top_non_stopwords_barchart(text):\n",
    "    stop=set(stopwords.words('english'))\n",
    "    new= text.str.split()\n",
    "    new=new.values.tolist()\n",
    "    corpus=[word for i in new for word in i]\n",
    "\n",
    "    counter=Counter(corpus)\n",
    "    most=counter.most_common()\n",
    "    x, y=[], []\n",
    "    for word,count in most[:10]:\n",
    "        if (word not in stop):\n",
    "            x.append(word)\n",
    "            y.append(count)\n",
    "            \n",
    "    sns.barplot(x=y,y=x)"
   ]
  },
  {
   "cell_type": "code",
   "execution_count": 32,
   "metadata": {},
   "outputs": [],
   "source": [
    "df['country'] = df['country'].astype(str)\n"
   ]
  },
  {
   "cell_type": "code",
   "execution_count": 33,
   "metadata": {},
   "outputs": [
    {
     "data": {
      "image/png": "[encoded data removed]",
      "text/plain": [
       "<Figure size 432x288 with 1 Axes>"
      ]
     },
     "metadata": {
      "needs_background": "light"
     },
     "output_type": "display_data"
    }
   ],
   "source": [
    "plot_top_non_stopwords_barchart(df['country'])"
   ]
  },
  {
   "cell_type": "code",
   "execution_count": null,
   "metadata": {},
   "outputs": [],
   "source": []
  }
 ],
 "metadata": {
  "kernelspec": {
   "display_name": "Python 3",
   "language": "python",
   "name": "python3"
  },
  "language_info": {
   "codemirror_mode": {
    "name": "ipython",
    "version": 3
   },
   "file_extension": ".py",
   "mimetype": "text/x-python",
   "name": "python",
   "nbconvert_exporter": "python",
   "pygments_lexer": "ipython3",
   "version": "3.8.3"
  }
 },
 "nbformat": 4,
 "nbformat_minor": 4
}
